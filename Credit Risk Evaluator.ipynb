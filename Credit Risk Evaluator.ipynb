{
 "cells": [
  {
   "cell_type": "code",
   "execution_count": 1,
   "metadata": {},
   "outputs": [],
   "source": [
    "import numpy as np\n",
    "import pandas as pd\n",
    "from pathlib import Path"
   ]
  },
  {
   "cell_type": "code",
   "execution_count": 3,
   "metadata": {},
   "outputs": [],
   "source": [
    "train_df = pd.read_csv(Path('Resources/2019loans.csv'))\n",
    "test_df = pd.read_csv(Path('Resources/2020Q1loans.csv'))"
   ]
  },
  {
   "cell_type": "code",
   "execution_count": 19,
   "metadata": {},
   "outputs": [
    {
     "name": "stdout",
     "output_type": "stream",
     "text": [
      "['debt_settlement_flag_Y']\n"
     ]
    }
   ],
   "source": [
    "# Split X and y\n",
    "y_train = train_df['target']\n",
    "y_test = test_df['target']\n",
    "\n",
    "X_train = train_df.drop(columns=[\"target\"])\n",
    "X_test = test_df.drop(columns=[\"target\"])\n",
    "\n",
    "# Convert categorical data to numeric and separate target feature for training data\n",
    "X_train_dummies = pd.get_dummies(X_train)\n",
    "X_test_dummies = pd.get_dummies(X_test)\n",
    "\n",
    "# Check for missing columns\n",
    "train_col_list = X_train_dummies.columns.tolist()\n",
    "test_col_list = X_test_dummies.columns.tolist()\n",
    "s = set(test_col_list)\n",
    "temp3 = [x for x in train_col_list if x not in s]\n",
    "print(temp3)"
   ]
  },
  {
   "cell_type": "code",
   "execution_count": 21,
   "metadata": {},
   "outputs": [
    {
     "data": {
      "text/plain": [
       "0    0\n",
       "1    0\n",
       "2    0\n",
       "3    0\n",
       "4    0\n",
       "Name: debt_settlement_flag_Y, dtype: uint8"
      ]
     },
     "execution_count": 21,
     "metadata": {},
     "output_type": "execute_result"
    }
   ],
   "source": [
    "X_train_dummies['debt_settlement_flag_Y'].head()"
   ]
  },
  {
   "cell_type": "code",
   "execution_count": 22,
   "metadata": {},
   "outputs": [
    {
     "data": {
      "text/plain": [
       "0    0\n",
       "1    0\n",
       "2    0\n",
       "3    0\n",
       "4    0\n",
       "Name: debt_settlement_flag_Y, dtype: int64"
      ]
     },
     "execution_count": 22,
     "metadata": {},
     "output_type": "execute_result"
    }
   ],
   "source": [
    "# add missing dummy variables to testing set\n",
    "\n",
    "X_test_dummies['debt_settlement_flag_Y'] = 0\n",
    "X_test_dummies['debt_settlement_flag_Y'].head()"
   ]
  },
  {
   "cell_type": "markdown",
   "metadata": {},
   "source": [
    "I think that logistic regression will work better because the data is not scaled. Signed Jedediah Madsen on this day, Wednesday, April 17, 2024."
   ]
  },
  {
   "cell_type": "code",
   "execution_count": 27,
   "metadata": {},
   "outputs": [
    {
     "name": "stdout",
     "output_type": "stream",
     "text": [
      "Train: 0.6529556650246305\n",
      "Test: 0.5082943428328371\n"
     ]
    },
    {
     "name": "stderr",
     "output_type": "stream",
     "text": [
      "/opt/anaconda3/envs/py37/lib/python3.7/site-packages/sklearn/linear_model/_logistic.py:818: ConvergenceWarning: lbfgs failed to converge (status=1):\n",
      "STOP: TOTAL NO. of ITERATIONS REACHED LIMIT.\n",
      "\n",
      "Increase the number of iterations (max_iter) or scale the data as shown in:\n",
      "    https://scikit-learn.org/stable/modules/preprocessing.html\n",
      "Please also refer to the documentation for alternative solver options:\n",
      "    https://scikit-learn.org/stable/modules/linear_model.html#logistic-regression\n",
      "  extra_warning_msg=_LOGISTIC_SOLVER_CONVERGENCE_MSG,\n"
     ]
    }
   ],
   "source": [
    "# Train the Logistic Regression model on the unscaled data and print the model score\n",
    "from sklearn.linear_model import LogisticRegression\n",
    "model = LogisticRegression(solver='lbfgs', max_iter=100)\n",
    "model.fit(X_train_dummies,y_train)\n",
    "print(f\"Train: {model.score(X_train_dummies, y_train)}\")\n",
    "print(f\"Test: {model.score(X_test_dummies, y_test)}\")"
   ]
  },
  {
   "cell_type": "markdown",
   "metadata": {},
   "source": [
    "Didn't do a grid search because I got a zillion warnings when I tried I couldn't figure out how to get them to go away without scaling, I think. "
   ]
  },
  {
   "cell_type": "code",
   "execution_count": 26,
   "metadata": {},
   "outputs": [
    {
     "name": "stdout",
     "output_type": "stream",
     "text": [
      "k: 1, Train/Test Score: 1.000/0.502\n",
      "k: 3, Train/Test Score: 0.764/0.503\n",
      "k: 5, Train/Test Score: 0.711/0.507\n",
      "k: 7, Train/Test Score: 0.677/0.512\n",
      "k: 9, Train/Test Score: 0.655/0.514\n",
      "k: 11, Train/Test Score: 0.639/0.503\n",
      "k: 13, Train/Test Score: 0.633/0.514\n",
      "k: 15, Train/Test Score: 0.632/0.516\n",
      "k: 17, Train/Test Score: 0.621/0.511\n",
      "k: 19, Train/Test Score: 0.616/0.509\n"
     ]
    }
   ],
   "source": [
    "# Train a K-Nearest Neighbors model and print the model score\n",
    "from sklearn.neighbors import KNeighborsClassifier\n",
    "\n",
    "for k in range(1, 20, 2):\n",
    "    knn = KNeighborsClassifier(n_neighbors=k)\n",
    "    knn.fit(X_train_dummies, y_train)\n",
    "    train_score = knn.score(X_train_dummies, y_train)\n",
    "    test_score = knn.score(X_test_dummies, y_test)\n",
    "    print(f\"k: {k}, Train/Test Score: {train_score:.3f}/{test_score:.3f}\")"
   ]
  },
  {
   "cell_type": "markdown",
   "metadata": {},
   "source": [
    "Logistic regression works about the same as KNN here but maybe only because I went with the defaults and didn't do a grid search."
   ]
  },
  {
   "cell_type": "code",
   "execution_count": 29,
   "metadata": {},
   "outputs": [],
   "source": [
    "# Scale the data\n",
    "from sklearn.preprocessing import StandardScaler\n",
    "# Scaling the X train data by using StandardScaler()\n",
    "scaler = StandardScaler().fit(X_train_dummies)\n",
    "X_train_scaled = scaler.transform(X_train_dummies)\n",
    "# Scaling the X train data by using StandardScaler()\n",
    "scaler = StandardScaler().fit(X_test_dummies)\n",
    "X_test_scaled = scaler.transform(X_test_dummies)"
   ]
  },
  {
   "cell_type": "code",
   "execution_count": 33,
   "metadata": {},
   "outputs": [
    {
     "name": "stdout",
     "output_type": "stream",
     "text": [
      "Train: 0.6935960591133005\n",
      "Test: 0.6518502764780945\n",
      "[[1568  783]\n",
      " [ 854 1497]]\n",
      "              precision    recall  f1-score   support\n",
      "\n",
      "   high_risk       0.65      0.67      0.66      2351\n",
      "    low_risk       0.66      0.64      0.65      2351\n",
      "\n",
      "    accuracy                           0.65      4702\n",
      "   macro avg       0.65      0.65      0.65      4702\n",
      "weighted avg       0.65      0.65      0.65      4702\n",
      "\n"
     ]
    }
   ],
   "source": [
    "# Train the Logistic Regression model on the scaled data and print the model score\n",
    "from sklearn.metrics import confusion_matrix\n",
    "from sklearn.metrics import classification_report\n",
    "\n",
    "model = LogisticRegression(C=0.01, tol=0.0001)\n",
    "model.fit(X_train_scaled,y_train)\n",
    "print(f\"Train: {model.score(X_train_scaled, y_train)}\")\n",
    "print(f\"Test: {model.score(X_test_scaled, y_test)}\")\n",
    "\n",
    "predictions = model.predict(X_test_scaled)\n",
    "print(confusion_matrix(y_test, predictions))\n",
    "\n",
    "print(classification_report(y_test, predictions))"
   ]
  },
  {
   "cell_type": "markdown",
   "metadata": {},
   "source": [
    "Still got a bunch of warnings on my grid search but was able to do a partial grid search and optimize a little more. "
   ]
  },
  {
   "cell_type": "code",
   "execution_count": 30,
   "metadata": {},
   "outputs": [
    {
     "name": "stdout",
     "output_type": "stream",
     "text": [
      "k: 1, Train/Test Score: 1.000/0.540\n",
      "k: 3, Train/Test Score: 0.787/0.541\n",
      "k: 5, Train/Test Score: 0.737/0.557\n",
      "k: 7, Train/Test Score: 0.711/0.560\n",
      "k: 9, Train/Test Score: 0.705/0.571\n",
      "k: 11, Train/Test Score: 0.696/0.572\n",
      "k: 13, Train/Test Score: 0.689/0.570\n",
      "k: 15, Train/Test Score: 0.679/0.572\n",
      "k: 17, Train/Test Score: 0.678/0.577\n",
      "k: 19, Train/Test Score: 0.671/0.575\n"
     ]
    }
   ],
   "source": [
    "# Train a K-Nearest Neighbors model on the scaled data and print the model score\n",
    "\n",
    "for k in range(1, 20, 2):\n",
    "    knn = KNeighborsClassifier(n_neighbors=k)\n",
    "    knn.fit(X_train_scaled, y_train)\n",
    "    train_score = knn.score(X_train_scaled, y_train)\n",
    "    test_score = knn.score(X_test_scaled, y_test)\n",
    "    print(f\"k: {k}, Train/Test Score: {train_score:.3f}/{test_score:.3f}\")"
   ]
  },
  {
   "cell_type": "code",
   "execution_count": 34,
   "metadata": {},
   "outputs": [
    {
     "name": "stdout",
     "output_type": "stream",
     "text": [
      "[[1324 1027]\n",
      " [ 989 1362]]\n",
      "              precision    recall  f1-score   support\n",
      "\n",
      "   high_risk       0.57      0.56      0.57      2351\n",
      "    low_risk       0.57      0.58      0.57      2351\n",
      "\n",
      "    accuracy                           0.57      4702\n",
      "   macro avg       0.57      0.57      0.57      4702\n",
      "weighted avg       0.57      0.57      0.57      4702\n",
      "\n"
     ]
    }
   ],
   "source": [
    "knn = KNeighborsClassifier(n_neighbors=9)\n",
    "knn.fit(X_train_scaled, y_train)\n",
    "predictions = knn.predict(X_test_scaled)\n",
    "print(confusion_matrix(y_test, predictions))\n",
    "\n",
    "print(classification_report(y_test, predictions))"
   ]
  },
  {
   "cell_type": "markdown",
   "metadata": {},
   "source": [
    "Logistic regression outperformed KNN even with scaling, possibly because I was actually able to optimize with a grid search. "
   ]
  },
  {
   "cell_type": "markdown",
   "metadata": {},
   "source": []
  }
 ],
 "metadata": {
  "kernelspec": {
   "display_name": "Python 3 (ipykernel)",
   "language": "python",
   "name": "python3"
  },
  "language_info": {
   "codemirror_mode": {
    "name": "ipython",
    "version": 3
   },
   "file_extension": ".py",
   "mimetype": "text/x-python",
   "name": "python",
   "nbconvert_exporter": "python",
   "pygments_lexer": "ipython3",
   "version": "3.7.12"
  }
 },
 "nbformat": 4,
 "nbformat_minor": 4
}
